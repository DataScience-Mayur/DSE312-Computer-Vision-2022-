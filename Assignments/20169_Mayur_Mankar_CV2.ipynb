{
  "nbformat": 4,
  "nbformat_minor": 0,
  "metadata": {
    "colab": {
      "provenance": []
    },
    "kernelspec": {
      "name": "python3",
      "display_name": "Python 3"
    },
    "language_info": {
      "name": "python"
    }
  },
  "cells": [
    {
      "cell_type": "code",
      "execution_count": null,
      "metadata": {
        "id": "Y__tIRa-oqqH"
      },
      "outputs": [],
      "source": [
        "# 1\n",
        "x1,y1 = 0,2\n",
        "x2,y2 = 3,5\n",
        "\n",
        "x3 = 2\n",
        "\n",
        "y3 = y1 + ((x3-x1)*(y2-y1))/(x2-x1)\n",
        "print(y3)"
      ]
    },
    {
      "cell_type": "code",
      "source": [
        "# 2\n",
        "# x' = xcostheta - ysintheta\n",
        "# y' = xsintheta + ycostheta\n",
        "\n",
        "import numpy as np\n",
        "import math\n",
        "\n",
        "x,y = 3,2\n",
        "theta = math.pi/6\n",
        "\n",
        "cos30 = math.cos(theta)\n",
        "sin30 = math.sin(theta)\n",
        "\n",
        "x_rotated = x*cos30 - y*sin30\n",
        "y_rotated =  x*sin30 + y*cos30\n",
        "\n",
        "x_final = x_rotated + 5\n",
        "y_final = x_rotated + 7\n",
        "\n",
        "print(f'({x_final},{y_final})')"
      ],
      "metadata": {
        "id": "O5omfcI3qBXD"
      },
      "execution_count": null,
      "outputs": []
    },
    {
      "cell_type": "code",
      "source": [
        "# 4\n",
        "import numpy as np\n",
        "k = int(input(\"Any constant: \"))\n",
        "H = np.array((5,7,1))\n",
        "H = np.matrix(H.reshape(3,1))\n",
        "print(H)"
      ],
      "metadata": {
        "id": "qFJOHD4ovUDq",
        "colab": {
          "base_uri": "https://localhost:8080/"
        },
        "outputId": "18f034f2-8195-41da-ce55-020a1b44e0c5"
      },
      "execution_count": null,
      "outputs": [
        {
          "output_type": "stream",
          "name": "stdout",
          "text": [
            "Any constant: 2\n",
            "[[10]\n",
            " [14]\n",
            " [ 0]]\n"
          ]
        }
      ]
    },
    {
      "cell_type": "code",
      "source": [
        "# 5\n",
        "def plane_intersect(a, b):\n",
        "    \"\"\"\n",
        "    a, b   4-tuples/lists\n",
        "           Ax + By +Cz + D = 0\n",
        "           A,B,C,D in order  \n",
        "\n",
        "    output: 2 points on line of intersection, np.arrays, shape (3,)\n",
        "    \"\"\"\n",
        "    a_vec, b_vec = np.array(a[:3]), np.array(b[:3])\n",
        "    aXb_vec = np.cross(a_vec, b_vec)\n",
        "\n",
        "    A = np.array([a_vec, b_vec, aXb_vec])\n",
        "    d = np.array([-a[3], -b[3], 0.]).reshape(3,1)\n",
        "\n",
        "# could add np.linalg.det(A) == 0 test to prevent linalg.solve throwing error\n",
        "\n",
        "    p_inter = np.linalg.solve(A, d).T\n",
        "    return p_inter[0], (p_inter + aXb_vec)[0]\n",
        "\n",
        "a, b = (2, 1, -1, -3), (1, -1, 1, -3)\n",
        "plane_intersect(a, b)\n",
        "\n",
        "# a> line\n",
        "# 2x+y-z = 3 \n",
        "# x-y+z = 3\n",
        "# z = 2x+y-3    z = 3-x+y\n",
        "# 2x+y-3 = 3-x+y\n",
        "# 3x = 6 \n",
        "# => x = 2\n",
        "# 2-y+z = 3 \n",
        "# z = 1+y\n",
        "# (2,y,1+y)\n",
        "# Putting z = 0\n",
        "# (2,-1,0)"
      ],
      "metadata": {
        "colab": {
          "base_uri": "https://localhost:8080/"
        },
        "id": "uTltrNSbLuRL",
        "outputId": "fd88aabf-d0e6-4003-f37b-74d0a6b386d2"
      },
      "execution_count": null,
      "outputs": [
        {
          "output_type": "execute_result",
          "data": {
            "text/plain": [
              "(array([ 2. , -0.5,  0.5]), array([ 2. , -3.5, -2.5]))"
            ]
          },
          "metadata": {},
          "execution_count": 5
        }
      ]
    },
    {
      "cell_type": "code",
      "source": [
        "# 6\n",
        "import numpy as np\n",
        "import math\n",
        "A = [(5,0,0,0),(0,1,0,0),(0,0,1,0),(0,0,0,1)]\n",
        "print(A)\n",
        "\n",
        "theta = math.pi/6\n",
        "\n",
        "cos30 = math.cos(theta)\n",
        "sin30 = math.sin(theta)\n",
        "B = [(cos30,sin30,0,0),(-sin30,cos30,0,0),(0,0,1,0),(0,0,0,1)]\n",
        "H1 = np.matmul(A,B)\n",
        "print(B)\n",
        "print(H1)\n",
        "C = np.matmul([(1,2,0,0),(0,1,0,0),(0,0,1,0),(0,0,0,1)],[(1,0,0,0),(3,1,0,0),(0,0,1,0),(0,0,0,1)])\n",
        "H2 = np.matmul(H1,C)\n",
        "print(C)\n",
        "print(H2)\n",
        "D = [(1,0,0,0,2),(0,1,0,0,1),(0,0,1,0,2),(0,0,0,1,1)]\n",
        "H = np.matmul(H2,D)\n",
        "print(D)\n",
        "print(H)"
      ],
      "metadata": {
        "id": "teQyKQk42t6F",
        "colab": {
          "base_uri": "https://localhost:8080/"
        },
        "outputId": "bdafeeef-2768-4efe-d40f-da26269a9030"
      },
      "execution_count": null,
      "outputs": [
        {
          "output_type": "stream",
          "name": "stdout",
          "text": [
            "[(5, 0, 0, 0), (0, 1, 0, 0), (0, 0, 1, 0), (0, 0, 0, 1)]\n",
            "[(0.8660254037844387, 0.49999999999999994, 0, 0), (-0.49999999999999994, 0.8660254037844387, 0, 0), (0, 0, 1, 0), (0, 0, 0, 1)]\n",
            "[[ 4.33012702  2.5         0.          0.        ]\n",
            " [-0.5         0.8660254   0.          0.        ]\n",
            " [ 0.          0.          1.          0.        ]\n",
            " [ 0.          0.          0.          1.        ]]\n",
            "[[7 2 0 0]\n",
            " [3 1 0 0]\n",
            " [0 0 1 0]\n",
            " [0 0 0 1]]\n",
            "[[37.81088913 11.16025404  0.          0.        ]\n",
            " [-0.90192379 -0.1339746   0.          0.        ]\n",
            " [ 0.          0.          1.          0.        ]\n",
            " [ 0.          0.          0.          1.        ]]\n",
            "[(1, 0, 0, 0, 2), (0, 1, 0, 0, 1), (0, 0, 1, 0, 2), (0, 0, 0, 1, 1)]\n",
            "[[37.81088913 11.16025404  0.          0.         86.7820323 ]\n",
            " [-0.90192379 -0.1339746   0.          0.         -1.93782217]\n",
            " [ 0.          0.          1.          0.          2.        ]\n",
            " [ 0.          0.          0.          1.          1.        ]]\n"
          ]
        }
      ]
    },
    {
      "cell_type": "code",
      "source": [
        "# 8\n",
        "import numpy as np\n",
        "import math\n",
        "\n",
        "A = [5,9,4,1]\n",
        "\n",
        "theta1 = math.pi/6\n",
        "theta2 = math.pi/2\n",
        "theta3 = math.pi\n",
        "\n",
        "cos30 = math.cos(theta1)\n",
        "sin30 = math.sin(theta1)\n",
        "cos90 = math.cos(theta2)\n",
        "sin90 = math.sin(theta2)\n",
        "cos180 = math.cos(theta3)\n",
        "sin180 = math.sin(theta3)\n",
        "\n",
        "Z_rot = [(cos30,sin30,0,0),(-sin30,cos30,0,0),(0,0,1,0),(0,0,0,1)]\n",
        "Y_rot = [(cos90,0,-sin90,0),(0,1,0,0),(sin90,0,cos90,0),(0,0,0,1)]\n",
        "X_rot = [(1,0,0,0),(0,cos180,sin180,0),(0,-sin180,cos180,0),(0,0,0,1)]\n",
        "T = [(1,0,0,4),(0,1,0,-3),(0,0,1,7),(0,0,0,1)]\n",
        "H1 = np.matmul(Z_rot,A)\n",
        "H2 = np.matmul(Y_rot,H1)\n",
        "H3 = np.matmul(X_rot,H2)\n",
        "H = np.matmul(T,H3)\n",
        "\n",
        "print(H)"
      ],
      "metadata": {
        "id": "sYozjVNRuLq_",
        "colab": {
          "base_uri": "https://localhost:8080/"
        },
        "outputId": "8b49d220-5a05-41c1-b434-be645f5bfa6e"
      },
      "execution_count": null,
      "outputs": [
        {
          "output_type": "stream",
          "name": "stdout",
          "text": [
            "[ 4.44089210e-16 -8.29422863e+00 -1.83012702e+00  1.00000000e+00]\n"
          ]
        }
      ]
    },
    {
      "cell_type": "code",
      "source": [
        "\n",
        "# 9\n",
        "\n",
        "import numpy as np\n",
        "import cv2 as cv\n",
        "\n",
        "points_2d = [(880, 214), (43, 203), (270, 197), (886, 347), (745, 302), (943, 128), (476, 590), \n",
        "    (419, 214), (317, 335), (783, 521), (235, 427), (665, 429), (665, 362), (427, 333),\n",
        "    (412, 415), (746, 351), (434, 415), (525, 234), (716, 308), (602, 187)]\n",
        "points_3d = [(312.747, 309.140, 30.086), (305.796, 311.649, 30.356), (307.694, 312.358, 30.418), (310.149, 307.186, 29.298),\n",
        "    (311.937, 310.105, 29.216), (311.202, 307.572, 30.682), (307.106, 306.876, 28.660), (309.317, 312.490, 30.230),\n",
        "    (307.435, 310.151, 29.318), (308.253, 306.300, 28.881), (306.650, 309.301, 28.905), (308.069, 306.831, 29.189),\n",
        "    (309.671, 308.834, 29.029), (308.255, 309.955, 29.267), (307.546, 308.613, 28.963), (311.036, 309.206, 28.913),\n",
        "    (307.518, 308.175, 29.069), (309.950, 311.262, 29.990), (312.160, 310.772, 29.080), (311.988, 312.709, 30.514)]\n",
        "\n",
        "# for i in I_pt:\n",
        "#   for j in W_pt:\n",
        "#     i = np.matrix(i)\n",
        "#     j = np.matrix(j)\n",
        "#     i_transpose = i.getI()\n",
        "#     p = np.matmul(i_transpose,j)\n",
        "#     i += 1\n",
        "#     j +=1\n",
        "#     # print(p)\n",
        "#     d = cv.decomposeProjectionMatrix(p)\n",
        "#     print (d)\n",
        "\n",
        "\n",
        "# # # print(W)\n",
        "# # print(W_transpose)\n",
        "\n",
        "# # P = np.matmul() \n",
        "\n",
        "A = np.zeros((2*len(points_3d), 12))\n",
        "\n",
        "print(A.shape)\n",
        "for i in range(0, A.shape[0], 2):\n",
        "    A[i, 0] = points_3d[int(i/2)][0]\n",
        "    A[i, 1] = points_3d[int(i/2)][1]\n",
        "    A[i, 2] = points_3d[int(i/2)][2]\n",
        "    A[i, 3] = 1\n",
        "    A[i, 8] = -1 * points_2d[int(i/2)][0] * points_3d[int(i/2)][0]\n",
        "    A[i, 9] = -1 * points_2d[int(i/2)][0] * points_3d[int(i/2)][1]\n",
        "    A[i, 10] = -1 * points_2d[int(i/2)][0] * points_3d[int(i/2)][2]\n",
        "    A[i, 11] = -1 * points_2d[int(i/2)][0] \n",
        "    A[i+1, 4] = points_3d[int(i/2)][0]\n",
        "    A[i+1, 5] = points_3d[int(i/2)][1]\n",
        "    A[i+1, 6] = points_3d[int(i/2)][2]\n",
        "    A[i+1, 7] = 1\n",
        "    A[i+1, 8] = -1 * points_2d[int(i/2)][1] * points_3d[int(i/2)][0]\n",
        "    A[i+1, 9] = -1 * points_2d[int(i/2)][1] * points_3d[int(i/2)][1]\n",
        "    A[i+1, 10] = -1 * points_2d[int(i/2)][1] * points_3d[int(i/2)][2]\n",
        "    A[i+1, 11] = -1 * points_2d[int(i/2)][1]\n",
        "\n",
        "U, S, Vh = np.linalg.svd(A)\n",
        "\n",
        "V = Vh.T\n",
        "\n",
        "M = Vh[-1,:]\n",
        "\n",
        "M = np.reshape(M, (3,4))\n",
        "\n",
        "print(M)\n",
        "\n",
        "jk = [i for i in points_3d[16]]\n",
        "jk.append(1)\n",
        "print(jk)\n",
        "\n",
        "lk = np.matmul(M, np.array(jk))\n",
        "\n",
        "print(lk/lk[-1])\n"
      ],
      "metadata": {
        "colab": {
          "base_uri": "https://localhost:8080/"
        },
        "id": "aLpnR_NY0B4t",
        "outputId": "4e4de470-d350-4ad5-9bf1-6ccf3982fc16"
      },
      "execution_count": null,
      "outputs": [
        {
          "output_type": "stream",
          "name": "stdout",
          "text": [
            "(40, 12)\n",
            "[[ 3.09551512e-03  1.50099363e-04 -4.55089945e-04 -9.78699360e-01]\n",
            " [ 3.08995055e-04  6.37417029e-04 -2.76003823e-03 -2.05250740e-01]\n",
            " [ 1.68238445e-06  2.74302661e-06 -6.69612696e-07 -1.32883746e-03]]\n",
            "[307.518, 308.175, 29.069, 1]\n",
            "[434.5856895  415.14063795   1.        ]\n"
          ]
        }
      ]
    },
    {
      "cell_type": "markdown",
      "source": [],
      "metadata": {
        "id": "KsB0Pvbn2HHC"
      }
    },
    {
      "cell_type": "code",
      "source": [
        "# 10\n",
        "import numpy as np\n",
        "\n",
        "M = [(512,-800,0,800),(512,0,-800,1600),(1,0,0,0)]\n",
        "\n",
        "W = [4,0,0,1]\n",
        "\n",
        "I = np.matmul(M,W)\n",
        "print(I)"
      ],
      "metadata": {
        "colab": {
          "base_uri": "https://localhost:8080/"
        },
        "id": "jsIzINYczKFV",
        "outputId": "a01a3c4d-c7ce-4d26-9938-c624524b34e3"
      },
      "execution_count": null,
      "outputs": [
        {
          "output_type": "stream",
          "name": "stdout",
          "text": [
            "[2848 3648    4]\n"
          ]
        }
      ]
    }
  ]
}